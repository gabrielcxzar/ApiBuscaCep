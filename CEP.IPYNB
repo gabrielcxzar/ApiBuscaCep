{
 "cells": [
  {
   "cell_type": "code",
   "execution_count": 2,
   "metadata": {
    "notebookRunGroups": {
     "groupValue": "1"
    }
   },
   "outputs": [
    {
     "name": "stdout",
     "output_type": "stream",
     "text": [
      "Informações encontradas:\n",
      "CEP: 40276-070\n",
      "Logradouro: Rua Optaciano da Silva Oliveira\n",
      "Bairro: Brotas\n",
      "Cidade: Salvador\n",
      "Estado: BA\n",
      "\n",
      "Endereço completo:\n",
      "CEP: 40276-070\n",
      "Logradouro: Rua Optaciano da Silva Oliveira\n",
      "Complemento: Não fornecido\n",
      "Nº Rua: S/N\n",
      "Bairro: Brotas\n",
      "Cidade: Salvador\n",
      "Estado: BA\n"
     ]
    }
   ],
   "source": [
    "import requests\n",
    "import re\n",
    "\n",
    "def validar_cep(cep):\n",
    "    return re.fullmatch(r'\\d{8}', cep) is not None\n",
    "\n",
    "def endereco_nao_encontrado(dados):\n",
    "    return dados.get('cep') == '00000000' or not any(dados.get(campo) for campo in ['logradouro', 'bairro', 'localidade', 'uf'])\n",
    "\n",
    "cep = input(\"Digite o CEP (apenas números): \").strip()\n",
    "\n",
    "if validar_cep(cep):\n",
    "    link = f\"https://viacep.com.br/ws/{cep}/json/\"\n",
    "\n",
    "    requisicao = requests.get(link)\n",
    "    if requisicao.status_code == 200:\n",
    "        dados = requisicao.json()\n",
    "        \n",
    "        if endereco_nao_encontrado(dados):\n",
    "            print(f\"Endereço não encontrado para o CEP: {cep}.\")\n",
    "        else:\n",
    "            print(\"Informações encontradas:\")\n",
    "            print(f\"CEP: {dados.get('cep', 'Não disponível')}\")\n",
    "            print(f\"Logradouro: {dados.get('logradouro', 'Não disponível')}\")\n",
    "            print(f\"Bairro: {dados.get('bairro', 'Não disponível')}\")\n",
    "            print(f\"Cidade: {dados.get('localidade', 'Não disponível')}\")\n",
    "            print(f\"Estado: {dados.get('uf', 'Não disponível')}\")\n",
    "\n",
    "            complemento = input(\"Digite o complemento (opcional): \").strip()\n",
    "            numero_da_rua = input('Digite o número da rua: ').strip() or 'S/N'\n",
    "\n",
    "            print(\"\\nEndereço completo:\") \n",
    "            print(f\"CEP: {dados.get('cep', 'Não disponível')}\")\n",
    "            print(f\"Logradouro: {dados.get('logradouro', 'Não disponível')}\")\n",
    "            print(f\"Complemento: {complemento if complemento else 'Não fornecido'}\")\n",
    "            print(f\"Nº Rua: {numero_da_rua}\")\n",
    "            print(f\"Bairro: {dados.get('bairro', 'Não disponível')}\")\n",
    "            print(f\"Cidade: {dados.get('localidade', 'Não disponível')}\")\n",
    "            print(f\"Estado: {dados.get('uf', 'Não disponível')}\")\n",
    "    else:\n",
    "        print(f\"Erro: Não foi possível obter os dados para o CEP: {cep}.\")\n",
    "else:\n",
    "    print(\"CEP inválido. Certifique-se de que o CEP tenha 8 (oito) dígitos e contenha apenas números.\")"
   ]
  }
 ],
 "metadata": {
  "kernelspec": {
   "display_name": "Python 3",
   "language": "python",
   "name": "python3"
  },
  "language_info": {
   "codemirror_mode": {
    "name": "ipython",
    "version": 3
   },
   "file_extension": ".py",
   "mimetype": "text/x-python",
   "name": "python",
   "nbconvert_exporter": "python",
   "pygments_lexer": "ipython3",
   "version": "3.12.5"
  }
 },
 "nbformat": 4,
 "nbformat_minor": 2
}
